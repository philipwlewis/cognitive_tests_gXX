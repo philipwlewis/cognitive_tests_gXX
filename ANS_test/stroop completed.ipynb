{
 "cells": [
  {
   "cell_type": "code",
   "execution_count": 8,
   "id": "a35dcf54-a157-4a13-93cf-22cc2cf54dd8",
   "metadata": {},
   "outputs": [],
   "source": [
    "from IPython.display import display, Image, clear_output, HTML\n",
    "import time\n",
    "import random"
   ]
  },
  {
   "cell_type": "code",
   "execution_count": 3,
   "id": "016291fd-94d0-49a1-aa40-85b906e904cb",
   "metadata": {},
   "outputs": [],
   "source": [
    "def run_stroop(color, word):\n",
    "    style = f\"color: {color}; font-size: 50px; ;\"\n",
    "    html_out = HTML(f\"\"\"<span style='{style}'>{word}</span>\"\"\")\n",
    "    \n",
    "    print(\"Welcome to the Stroop test\")\n",
    "    time.sleep(1)\n",
    "    \n",
    "    print(\"When asked colour used to display the word:\")\n",
    "    time.sleep(1)\n",
    "    \n",
    "    start_time = time.time()\n",
    "    \n",
    "    display(html_out)\n",
    "    \n",
    "    ans = \"\"\n",
    "    while ans != color:\n",
    "        ans = input(\"Enter the color: \")\n",
    "    \n",
    "    end_time = time.time()\n",
    "    \n",
    "    time_taken = end_time - start_time\n",
    "    \n",
    "    print(\"Well done!\")\n",
    "    time.sleep(1)\n",
    "    \n",
    "    # in the code below the :.2f is a format code\n",
    "    # we can add such codes to inserted values in f-strings \n",
    "    # here we specify Python should display as float with 2 d.p.\n",
    "    \n",
    "    print(f\"You took {time_taken:.2f} seconds\")\n",
    "    return time_taken\n",
    "    "
   ]
  },
  {
   "cell_type": "code",
   "execution_count": 5,
   "id": "475815a8-0249-445c-85e6-9f4cf8f9b1b1",
   "metadata": {},
   "outputs": [
    {
     "name": "stdout",
     "output_type": "stream",
     "text": [
      "Welcome to the Stroop test\n",
      "When asked colour used to display the word:\n"
     ]
    },
    {
     "data": {
      "text/html": [
       "<span style='color: red; font-size: 50px; ;'>yellow</span>"
      ],
      "text/plain": [
       "<IPython.core.display.HTML object>"
      ]
     },
     "metadata": {},
     "output_type": "display_data"
    },
    {
     "name": "stdin",
     "output_type": "stream",
     "text": [
      "Enter the color:  red\n"
     ]
    },
    {
     "name": "stdout",
     "output_type": "stream",
     "text": [
      "Well done!\n",
      "You took 1.47 seconds\n"
     ]
    }
   ],
   "source": [
    "time_taken = run_stroop(\"red\", \"yellow\")"
   ]
  },
  {
   "cell_type": "code",
   "execution_count": 6,
   "id": "66b46a7b-5fa5-437f-be5c-61b66cbcbf9f",
   "metadata": {},
   "outputs": [
    {
     "data": {
      "text/plain": [
       "1.473771333694458"
      ]
     },
     "execution_count": 6,
     "metadata": {},
     "output_type": "execute_result"
    }
   ],
   "source": [
    "time_taken"
   ]
  },
  {
   "cell_type": "code",
   "execution_count": 9,
   "id": "bfa56f08-b80b-4e8c-a3dc-ca56d63173ac",
   "metadata": {},
   "outputs": [
    {
     "name": "stdout",
     "output_type": "stream",
     "text": [
      "['black', 'red', 'orange', 'yellow', 'green', 'blue', 'purple', 'pink', 'grey']\n",
      "['yellow', 'blue', 'black', 'grey', 'orange', 'pink', 'purple', 'green', 'red']\n"
     ]
    }
   ],
   "source": [
    "all_colors = [ 'black', 'red', 'orange', 'yellow', 'green', \n",
    "               'blue', 'purple', 'pink', 'grey' ]\n",
    "\n",
    "color_list = all_colors.copy()\n",
    "print(color_list)\n",
    "random.shuffle(color_list)\n",
    "print(color_list)\n",
    "\n"
   ]
  },
  {
   "cell_type": "code",
   "execution_count": 10,
   "id": "14f68e08-20df-4338-9c32-df9d33a8fb7d",
   "metadata": {},
   "outputs": [
    {
     "name": "stdout",
     "output_type": "stream",
     "text": [
      "['yellow', 'blue', 'black', 'grey', 'orange', 'pink', 'purple', 'green', 'red']\n"
     ]
    }
   ],
   "source": [
    "matched_word_list = color_list.copy()\n",
    "print(matched_word_list)"
   ]
  },
  {
   "cell_type": "code",
   "execution_count": 11,
   "id": "74a67ecb-04e8-4210-bfc2-921f72796b70",
   "metadata": {},
   "outputs": [
    {
     "name": "stdout",
     "output_type": "stream",
     "text": [
      "['yellow', 'blue', 'purple', 'green', 'black', 'orange', 'grey', 'pink', 'red']\n"
     ]
    }
   ],
   "source": [
    "shuffled_word_list = color_list.copy()\n",
    "random.shuffle(shuffled_word_list)\n",
    "print(shuffled_word_list)"
   ]
  },
  {
   "cell_type": "code",
   "execution_count": 16,
   "id": "0ab92e90-8975-4aae-8e83-4ccb9cfa84e1",
   "metadata": {},
   "outputs": [
    {
     "name": "stdout",
     "output_type": "stream",
     "text": [
      "total time taken 18.546275854110718\n"
     ]
    }
   ],
   "source": [
    "total_time = 0\n",
    "\n",
    "n = len(color_list)\n",
    "for i in range(n):\n",
    "    color = color_list[i]\n",
    "    word = matched_word_list[i]\n",
    "    time_taken = run_stroop(color, word)\n",
    "    clear_output(wait=False)\n",
    "    total_time = total_time + time_taken\n",
    "\n",
    "print(\"total time taken\", total_time)"
   ]
  },
  {
   "cell_type": "code",
   "execution_count": 20,
   "id": "3e1d4e5e-e68e-4113-8129-49a408277b25",
   "metadata": {},
   "outputs": [
    {
     "name": "stdout",
     "output_type": "stream",
     "text": [
      "total time taken 16.34091806411743\n",
      "19.369383811950684 20.16020894050598 16.34091806411743\n"
     ]
    }
   ],
   "source": [
    "random_word_list = [ 'pull', 'train', 'zip', 'ground', 'echo', \n",
    "                 'door', 'shoe', 'food', 'said'] \n",
    "\n",
    "def run_stroop_set(color_list, word_list):\n",
    "    total_time = 0\n",
    "    \n",
    "    n = len(color_list)\n",
    "    for i in range(n):\n",
    "        color = color_list[i]\n",
    "        word = word_list[i]\n",
    "        time_taken = run_stroop(color, word)\n",
    "        clear_output(wait=False)\n",
    "        total_time = total_time + time_taken\n",
    "    \n",
    "    print(\"total time taken\", total_time)\n",
    "    return total_time\n",
    "\n",
    "m1 = run_stroop_set(color_list, matched_word_list)\n",
    "print(\"Next the words will be random words (not colors)\")\n",
    "print(\"Press enter when you are ready to continue\")\n",
    "input(\"\")\n",
    "m2 = run_stroop_set(color_list, random_word_list)\n",
    "print(\"Next the words will be random colours (not matching)\")\n",
    "print(\"Press enter when you are ready to continue\")\n",
    "input(\"\")\n",
    "m3 = run_stroop_set(color_list, shuffled_word_list)\n",
    "\n",
    "print(m1, m2, m3)\n"
   ]
  },
  {
   "cell_type": "code",
   "execution_count": null,
   "id": "625a5d2d-af36-4f0a-8416-101f5a2b03c3",
   "metadata": {},
   "outputs": [],
   "source": []
  }
 ],
 "metadata": {
  "kernelspec": {
   "display_name": "Python 3 (ipykernel)",
   "language": "python",
   "name": "python3"
  },
  "language_info": {
   "codemirror_mode": {
    "name": "ipython",
    "version": 3
   },
   "file_extension": ".py",
   "mimetype": "text/x-python",
   "name": "python",
   "nbconvert_exporter": "python",
   "pygments_lexer": "ipython3",
   "version": "3.8.17"
  }
 },
 "nbformat": 4,
 "nbformat_minor": 5
}
